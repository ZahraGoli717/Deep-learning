{
 "cells": [
  {
   "cell_type": "code",
   "execution_count": 1,
   "id": "e3e8a548",
   "metadata": {},
   "outputs": [
    {
     "name": "stdout",
     "output_type": "stream",
     "text": [
      "WARNING:tensorflow:From C:\\ProgramData\\anaconda3\\Lib\\site-packages\\keras\\src\\losses.py:2976: The name tf.losses.sparse_softmax_cross_entropy is deprecated. Please use tf.compat.v1.losses.sparse_softmax_cross_entropy instead.\n",
      "\n"
     ]
    }
   ],
   "source": [
    "import matplotlib.pyplot as plt\n",
    "import numpy as np\n",
    "import pandas as pd\n",
    "import tensorflow as tf\n",
    "\n",
    "from sklearn.metrics import accuracy_score, precision_score, recall_score\n",
    "from sklearn.model_selection import train_test_split\n",
    "from tensorflow.keras import layers, losses\n",
    "from tensorflow.keras.datasets import fashion_mnist\n",
    "from tensorflow.keras.models import Model"
   ]
  },
  {
   "cell_type": "code",
   "execution_count": 3,
   "id": "051096b0",
   "metadata": {},
   "outputs": [],
   "source": [
    "import cv2\n",
    "from scipy import io\n",
    "import os\n",
    "import datetime"
   ]
  },
  {
   "cell_type": "code",
   "execution_count": 4,
   "id": "1d787af3",
   "metadata": {},
   "outputs": [],
   "source": [
    "dataset=io.loadmat('Data_hoda_full.mat')"
   ]
  },
  {
   "cell_type": "code",
   "execution_count": 6,
   "id": "bfd438b7",
   "metadata": {},
   "outputs": [
    {
     "data": {
      "text/plain": [
       "{'__header__': b'MATLAB 5.0 MAT-file, Platform: PCWIN64, Created on: Thu Jun 30 20:26:30 2011',\n",
       " '__version__': '1.0',\n",
       " '__globals__': [],\n",
       " 'Data': array([[array([[  0,   0,   0,   0, 255, 255,   0,   0,   0,   0,   0,   0,   0,\n",
       "                   0,   0,   0,   0,   0,   0,   0],\n",
       "                [  0,   0,   0, 255, 255, 255, 255,   0,   0,   0,   0,   0,   0,\n",
       "                   0,   0,   0,   0,   0,   0,   0],\n",
       "                [  0,   0, 255, 255, 255, 255, 255,   0,   0,   0,   0,   0,   0,\n",
       "                   0,   0,   0,   0, 255, 255,   0],\n",
       "                [  0, 255, 255, 255, 255, 255,   0,   0,   0,   0,   0,   0,   0,\n",
       "                   0,   0,   0, 255, 255, 255, 255],\n",
       "                [  0, 255, 255, 255, 255,   0,   0,   0,   0,   0,   0,   0,   0,\n",
       "                   0,   0, 255, 255, 255, 255,   0],\n",
       "                [  0, 255, 255, 255,   0,   0,   0,   0,   0,   0,   0,   0,   0,\n",
       "                   0, 255, 255, 255, 255, 255,   0],\n",
       "                [255, 255, 255, 255,   0,   0,   0,   0,   0,   0,   0,   0,   0,\n",
       "                 255, 255, 255, 255, 255,   0,   0],\n",
       "                [255, 255, 255,   0,   0,   0,   0,   0,   0,   0,   0,   0, 255,\n",
       "                 255, 255, 255, 255,   0,   0,   0],\n",
       "                [255, 255, 255,   0,   0,   0,   0,   0,   0,   0, 255, 255, 255,\n",
       "                 255, 255, 255, 255,   0,   0,   0],\n",
       "                [255, 255, 255,   0,   0,   0,   0,   0,   0, 255, 255, 255, 255,\n",
       "                 255, 255, 255,   0,   0,   0,   0],\n",
       "                [255, 255, 255, 255, 255, 255, 255, 255, 255, 255, 255, 255, 255,\n",
       "                 255, 255,   0,   0,   0,   0,   0],\n",
       "                [255, 255, 255, 255, 255, 255, 255, 255, 255, 255, 255, 255, 255,\n",
       "                 255,   0,   0,   0,   0,   0,   0],\n",
       "                [  0, 255, 255, 255, 255, 255, 255, 255, 255, 255, 255, 255, 255,\n",
       "                   0,   0,   0,   0,   0,   0,   0],\n",
       "                [  0,   0,   0,   0, 255, 255, 255, 255, 255, 255, 255, 255, 255,\n",
       "                   0,   0,   0,   0,   0,   0,   0],\n",
       "                [  0,   0,   0,   0,   0,   0,   0, 255, 255, 255, 255, 255,   0,\n",
       "                   0,   0,   0,   0,   0,   0,   0],\n",
       "                [  0,   0,   0,   0,   0,   0,   0, 255, 255, 255, 255,   0,   0,\n",
       "                   0,   0,   0,   0,   0,   0,   0],\n",
       "                [  0,   0,   0,   0,   0,   0, 255, 255, 255, 255, 255,   0,   0,\n",
       "                   0,   0,   0,   0,   0,   0,   0],\n",
       "                [  0,   0,   0,   0,   0,   0, 255, 255, 255, 255,   0,   0,   0,\n",
       "                   0,   0,   0,   0,   0,   0,   0],\n",
       "                [  0,   0,   0,   0,   0, 255, 255, 255, 255, 255,   0,   0,   0,\n",
       "                   0,   0,   0,   0,   0,   0,   0],\n",
       "                [  0,   0,   0,   0,   0, 255, 255, 255, 255,   0,   0,   0,   0,\n",
       "                   0,   0,   0,   0,   0,   0,   0],\n",
       "                [  0,   0,   0,   0,   0, 255, 255, 255, 255,   0,   0,   0,   0,\n",
       "                   0,   0,   0,   0,   0,   0,   0],\n",
       "                [  0,   0,   0,   0,   0, 255, 255, 255, 255,   0,   0,   0,   0,\n",
       "                   0,   0,   0,   0,   0,   0,   0],\n",
       "                [  0,   0,   0,   0,   0, 255, 255, 255,   0,   0,   0,   0,   0,\n",
       "                   0,   0,   0,   0,   0,   0,   0],\n",
       "                [  0,   0,   0,   0, 255, 255, 255, 255,   0,   0,   0,   0,   0,\n",
       "                   0,   0,   0,   0,   0,   0,   0],\n",
       "                [  0,   0,   0,   0, 255, 255, 255, 255,   0,   0,   0,   0,   0,\n",
       "                   0,   0,   0,   0,   0,   0,   0],\n",
       "                [  0,   0,   0,   0, 255, 255, 255,   0,   0,   0,   0,   0,   0,\n",
       "                   0,   0,   0,   0,   0,   0,   0],\n",
       "                [  0,   0,   0,   0,   0, 255, 255,   0,   0,   0,   0,   0,   0,\n",
       "                   0,   0,   0,   0,   0,   0,   0]], dtype=uint8)               ],\n",
       "        [array([[  0,   0,   0,   0,   0,   0,   0,   0,   0,   0, 255, 255,   0,\n",
       "                   0,   0,   0,   0,   0,   0,   0,   0],\n",
       "                [  0,   0,   0,   0,   0,   0,   0,   0,   0, 255, 255, 255, 255,\n",
       "                   0,   0,   0,   0,   0,   0,   0,   0],\n",
       "                [  0,   0,   0,   0,   0,   0,   0,   0, 255, 255, 255, 255, 255,\n",
       "                 255,   0,   0,   0,   0,   0,   0,   0],\n",
       "                [  0,   0,   0,   0,   0,   0,   0,   0, 255, 255, 255, 255, 255,\n",
       "                 255, 255,   0,   0,   0,   0,   0,   0],\n",
       "                [  0,   0,   0,   0,   0,   0, 255, 255, 255, 255, 255, 255, 255,\n",
       "                 255, 255,   0,   0,   0,   0,   0,   0],\n",
       "                [  0,   0,   0,   0,   0, 255, 255, 255, 255, 255, 255, 255, 255,\n",
       "                 255, 255, 255,   0,   0,   0,   0,   0],\n",
       "                [  0,   0,   0,   0, 255, 255, 255, 255, 255,   0,   0,   0,   0,\n",
       "                 255, 255, 255, 255,   0,   0,   0,   0],\n",
       "                [  0,   0,   0,   0, 255, 255, 255, 255,   0,   0,   0,   0,   0,\n",
       "                   0, 255, 255, 255,   0,   0,   0,   0],\n",
       "                [  0,   0,   0, 255, 255, 255, 255,   0,   0,   0,   0,   0,   0,\n",
       "                   0,   0, 255, 255, 255,   0,   0,   0],\n",
       "                [  0,   0, 255, 255, 255, 255,   0,   0,   0,   0,   0,   0,   0,\n",
       "                   0,   0, 255, 255, 255, 255,   0,   0],\n",
       "                [  0, 255, 255, 255, 255, 255,   0,   0,   0,   0,   0,   0,   0,\n",
       "                   0,   0, 255, 255, 255, 255, 255,   0],\n",
       "                [  0, 255, 255, 255, 255,   0,   0,   0,   0,   0,   0,   0,   0,\n",
       "                   0,   0,   0, 255, 255, 255, 255,   0],\n",
       "                [255, 255, 255, 255,   0,   0,   0,   0,   0,   0,   0, 255, 255,\n",
       "                   0,   0,   0,   0, 255, 255, 255, 255],\n",
       "                [255, 255, 255, 255,   0,   0,   0,   0,   0,   0, 255, 255, 255,\n",
       "                 255,   0,   0,   0, 255, 255, 255, 255],\n",
       "                [255, 255, 255,   0,   0,   0,   0,   0,   0, 255, 255, 255, 255,\n",
       "                 255,   0,   0,   0, 255, 255, 255, 255],\n",
       "                [255, 255, 255,   0,   0,   0,   0,   0,   0, 255, 255, 255, 255,\n",
       "                 255,   0,   0,   0, 255, 255, 255, 255],\n",
       "                [255, 255, 255,   0,   0,   0,   0,   0, 255, 255, 255, 255, 255,\n",
       "                 255, 255,   0, 255, 255, 255, 255,   0],\n",
       "                [  0, 255,   0,   0,   0,   0, 255, 255, 255, 255, 255, 255, 255,\n",
       "                 255, 255, 255, 255, 255, 255, 255,   0],\n",
       "                [  0,   0,   0,   0,   0, 255, 255, 255, 255, 255, 255, 255, 255,\n",
       "                 255,   0, 255, 255, 255, 255,   0,   0],\n",
       "                [  0,   0,   0,   0, 255, 255, 255, 255, 255,   0,   0,   0,   0,\n",
       "                   0,   0,   0,   0,   0,   0,   0,   0]], dtype=uint8)          ],\n",
       "        [array([[  0, 255, 255, 255, 255, 255, 255, 255, 255,   0,   0,   0, 255,\n",
       "                 255,   0],\n",
       "                [  0, 255, 255, 255, 255, 255, 255, 255, 255, 255, 255, 255, 255,\n",
       "                 255,   0],\n",
       "                [255, 255, 255, 255, 255, 255, 255, 255, 255, 255, 255, 255, 255,\n",
       "                 255, 255],\n",
       "                [255, 255, 255, 255, 255,   0, 255, 255, 255,   0, 255, 255, 255,\n",
       "                 255, 255],\n",
       "                [255, 255, 255, 255,   0,   0,   0,   0,   0,   0, 255, 255, 255,\n",
       "                 255, 255],\n",
       "                [255, 255, 255, 255, 255, 255, 255, 255, 255, 255, 255, 255, 255,\n",
       "                 255, 255],\n",
       "                [255, 255, 255, 255, 255, 255, 255, 255, 255, 255, 255, 255, 255,\n",
       "                 255,   0],\n",
       "                [  0, 255, 255, 255, 255, 255, 255, 255, 255, 255, 255, 255, 255,\n",
       "                 255,   0],\n",
       "                [  0,   0, 255, 255, 255, 255, 255, 255, 255, 255, 255, 255, 255,\n",
       "                   0,   0],\n",
       "                [  0,   0,   0,   0, 255,   0, 255, 255, 255,   0,   0,   0,   0,\n",
       "                   0,   0]], dtype=uint8)                                        ],\n",
       "        ...,\n",
       "        [array([[  0, 255, 255, 255,   0,   0,   0,   0,   0,   0,   0,   0, 255,\n",
       "                 255,   0],\n",
       "                [255, 255, 255, 255,   0,   0,   0,   0,   0,   0,   0,   0, 255,\n",
       "                 255, 255],\n",
       "                [  0, 255, 255, 255, 255,   0,   0,   0,   0,   0,   0,   0, 255,\n",
       "                 255, 255],\n",
       "                [  0, 255, 255, 255, 255,   0,   0,   0,   0,   0,   0, 255, 255,\n",
       "                 255, 255],\n",
       "                [  0, 255, 255, 255, 255, 255,   0,   0,   0,   0,   0, 255, 255,\n",
       "                 255, 255],\n",
       "                [  0, 255, 255, 255, 255, 255,   0,   0, 255, 255, 255, 255, 255,\n",
       "                 255,   0],\n",
       "                [  0,   0, 255, 255, 255, 255, 255, 255, 255, 255, 255, 255, 255,\n",
       "                   0,   0],\n",
       "                [  0,   0, 255, 255, 255, 255, 255, 255, 255, 255, 255,   0,   0,\n",
       "                   0,   0],\n",
       "                [  0,   0, 255, 255, 255, 255,   0,   0,   0,   0,   0,   0,   0,\n",
       "                   0,   0],\n",
       "                [  0,   0, 255, 255, 255, 255,   0,   0,   0,   0,   0,   0,   0,\n",
       "                   0,   0],\n",
       "                [  0,   0, 255, 255, 255, 255,   0,   0,   0,   0,   0,   0,   0,\n",
       "                   0,   0],\n",
       "                [  0,   0, 255, 255, 255, 255,   0,   0,   0,   0,   0,   0,   0,\n",
       "                   0,   0],\n",
       "                [  0,   0, 255, 255, 255, 255,   0,   0,   0,   0,   0,   0,   0,\n",
       "                   0,   0],\n",
       "                [  0,   0, 255, 255, 255, 255,   0,   0,   0,   0,   0,   0,   0,\n",
       "                   0,   0],\n",
       "                [  0,   0, 255, 255, 255, 255,   0,   0,   0,   0,   0,   0,   0,\n",
       "                   0,   0],\n",
       "                [  0,   0, 255, 255, 255, 255,   0,   0,   0,   0,   0,   0,   0,\n",
       "                   0,   0],\n",
       "                [  0,   0,   0, 255, 255, 255,   0,   0,   0,   0,   0,   0,   0,\n",
       "                   0,   0],\n",
       "                [  0,   0,   0, 255, 255, 255,   0,   0,   0,   0,   0,   0,   0,\n",
       "                   0,   0],\n",
       "                [  0,   0,   0, 255, 255, 255,   0,   0,   0,   0,   0,   0,   0,\n",
       "                   0,   0],\n",
       "                [  0,   0,   0,   0, 255, 255, 255,   0,   0,   0,   0,   0,   0,\n",
       "                   0,   0],\n",
       "                [  0,   0,   0,   0, 255, 255, 255,   0,   0,   0,   0,   0,   0,\n",
       "                   0,   0],\n",
       "                [  0,   0,   0, 255, 255, 255, 255,   0,   0,   0,   0,   0,   0,\n",
       "                   0,   0],\n",
       "                [  0,   0,   0,   0, 255, 255, 255, 255,   0,   0,   0,   0,   0,\n",
       "                   0,   0],\n",
       "                [  0,   0,   0,   0,   0, 255, 255, 255,   0,   0,   0,   0,   0,\n",
       "                   0,   0],\n",
       "                [  0,   0,   0,   0,   0,   0,   0, 255,   0,   0,   0,   0,   0,\n",
       "                   0,   0]], dtype=uint8)                                        ],\n",
       "        [array([[  0,   0,   0,   0,   0,   0, 255, 255, 255,   0,   0,   0,   0,\n",
       "                   0,   0,   0,   0,   0],\n",
       "                [  0,   0,   0,   0,   0,   0, 255, 255, 255, 255,   0,   0,   0,\n",
       "                   0,   0,   0,   0,   0],\n",
       "                [  0,   0,   0,   0,   0, 255, 255, 255, 255, 255,   0,   0,   0,\n",
       "                   0,   0,   0,   0,   0],\n",
       "                [  0,   0,   0,   0,   0, 255, 255, 255, 255,   0,   0,   0,   0,\n",
       "                   0,   0,   0,   0,   0],\n",
       "                [  0,   0,   0,   0,   0, 255, 255,   0,   0,   0,   0,   0,   0,\n",
       "                   0,   0,   0,   0,   0],\n",
       "                [  0,   0,   0,   0,   0, 255, 255,   0,   0,   0,   0,   0,   0,\n",
       "                   0,   0,   0, 255, 255],\n",
       "                [  0,   0,   0,   0, 255, 255, 255,   0,   0,   0,   0,   0,   0,\n",
       "                   0,   0,   0, 255, 255],\n",
       "                [  0,   0,   0,   0, 255, 255, 255,   0,   0,   0,   0,   0,   0,\n",
       "                   0,   0, 255, 255, 255],\n",
       "                [  0,   0,   0, 255, 255, 255, 255,   0,   0,   0,   0,   0,   0,\n",
       "                   0,   0, 255, 255, 255],\n",
       "                [  0,   0,   0, 255, 255, 255, 255,   0,   0,   0,   0,   0,   0,\n",
       "                   0, 255, 255, 255,   0],\n",
       "                [  0,   0,   0, 255, 255, 255,   0,   0,   0,   0,   0,   0,   0,\n",
       "                 255, 255, 255, 255,   0],\n",
       "                [  0,   0,   0, 255, 255, 255,   0,   0,   0,   0,   0, 255, 255,\n",
       "                 255, 255, 255,   0,   0],\n",
       "                [  0,   0,   0, 255, 255, 255,   0,   0,   0,   0,   0, 255, 255,\n",
       "                 255, 255,   0,   0,   0],\n",
       "                [  0,   0,   0,   0, 255, 255, 255,   0,   0,   0, 255, 255, 255,\n",
       "                 255,   0,   0,   0,   0],\n",
       "                [  0,   0,   0,   0, 255, 255, 255, 255, 255, 255, 255, 255, 255,\n",
       "                 255,   0,   0,   0,   0],\n",
       "                [  0,   0,   0,   0, 255, 255, 255, 255, 255, 255, 255, 255, 255,\n",
       "                   0,   0,   0,   0,   0],\n",
       "                [  0,   0,   0,   0,   0, 255, 255, 255, 255, 255, 255, 255,   0,\n",
       "                   0,   0,   0,   0,   0],\n",
       "                [  0,   0,   0,   0,   0,   0, 255, 255, 255, 255, 255,   0,   0,\n",
       "                   0,   0,   0,   0,   0],\n",
       "                [  0,   0,   0,   0,   0,   0,   0, 255, 255, 255,   0,   0,   0,\n",
       "                   0,   0,   0,   0,   0],\n",
       "                [  0,   0,   0,   0,   0,   0, 255, 255, 255,   0,   0,   0,   0,\n",
       "                   0,   0,   0,   0,   0],\n",
       "                [  0,   0,   0,   0,   0, 255, 255, 255, 255,   0,   0,   0,   0,\n",
       "                   0,   0,   0,   0,   0],\n",
       "                [  0,   0,   0,   0,   0, 255, 255, 255, 255,   0,   0,   0,   0,\n",
       "                   0,   0,   0,   0,   0],\n",
       "                [  0,   0,   0,   0, 255, 255, 255, 255,   0,   0,   0,   0,   0,\n",
       "                   0,   0,   0,   0,   0],\n",
       "                [  0,   0,   0, 255, 255, 255, 255,   0,   0,   0,   0,   0,   0,\n",
       "                   0,   0,   0,   0,   0],\n",
       "                [  0,   0,   0, 255, 255, 255, 255,   0,   0,   0,   0,   0,   0,\n",
       "                   0,   0,   0,   0,   0],\n",
       "                [  0,   0,   0, 255, 255, 255,   0,   0,   0,   0,   0,   0,   0,\n",
       "                   0,   0,   0,   0,   0],\n",
       "                [  0,   0, 255, 255, 255, 255,   0,   0,   0,   0,   0,   0,   0,\n",
       "                   0,   0,   0,   0,   0],\n",
       "                [  0,   0, 255, 255, 255,   0,   0,   0,   0,   0,   0,   0,   0,\n",
       "                   0,   0,   0,   0,   0],\n",
       "                [  0,   0, 255, 255, 255,   0,   0,   0,   0,   0,   0,   0,   0,\n",
       "                   0,   0,   0,   0,   0],\n",
       "                [  0, 255, 255, 255,   0,   0,   0,   0,   0,   0,   0,   0,   0,\n",
       "                   0,   0,   0,   0,   0],\n",
       "                [255, 255, 255,   0,   0,   0,   0,   0,   0,   0,   0,   0,   0,\n",
       "                   0,   0,   0,   0,   0],\n",
       "                [255, 255, 255,   0,   0,   0,   0,   0,   0,   0,   0,   0,   0,\n",
       "                   0,   0,   0,   0,   0],\n",
       "                [255, 255, 255,   0,   0,   0,   0,   0,   0,   0,   0,   0,   0,\n",
       "                   0,   0,   0,   0,   0],\n",
       "                [255, 255, 255,   0,   0,   0,   0,   0,   0,   0,   0,   0,   0,\n",
       "                   0,   0,   0,   0,   0],\n",
       "                [255, 255, 255, 255,   0,   0,   0,   0,   0,   0,   0,   0,   0,\n",
       "                   0,   0,   0,   0,   0]], dtype=uint8)                         ],\n",
       "        [array([[  0,   0,   0,   0, 255, 255, 255, 255, 255, 255, 255, 255,   0,\n",
       "                   0,   0,   0,   0,   0,   0,   0, 255, 255, 255, 255, 255],\n",
       "                [  0,   0, 255, 255, 255, 255, 255, 255, 255, 255, 255, 255,   0,\n",
       "                   0,   0,   0,   0,   0,   0, 255, 255, 255, 255, 255, 255],\n",
       "                [  0,   0, 255, 255, 255, 255, 255,   0, 255, 255, 255,   0,   0,\n",
       "                   0,   0,   0,   0,   0,   0, 255, 255, 255, 255, 255, 255],\n",
       "                [  0, 255, 255, 255, 255, 255,   0,   0, 255, 255, 255,   0,   0,\n",
       "                   0,   0,   0,   0,   0, 255, 255, 255, 255, 255, 255, 255],\n",
       "                [  0, 255, 255, 255, 255,   0,   0,   0,   0,   0,   0,   0,   0,\n",
       "                   0,   0,   0,   0,   0, 255, 255, 255, 255, 255, 255,   0],\n",
       "                [255, 255, 255, 255,   0,   0,   0,   0,   0,   0,   0,   0,   0,\n",
       "                   0,   0,   0,   0,   0, 255, 255, 255, 255, 255,   0,   0],\n",
       "                [255, 255, 255, 255, 255,   0,   0,   0,   0,   0,   0,   0,   0,\n",
       "                   0,   0,   0,   0, 255, 255, 255, 255, 255, 255,   0,   0],\n",
       "                [255, 255, 255, 255, 255,   0,   0,   0,   0,   0,   0,   0,   0,\n",
       "                   0,   0,   0,   0, 255, 255, 255, 255, 255, 255,   0,   0],\n",
       "                [  0, 255, 255, 255,   0,   0,   0,   0,   0,   0,   0,   0,   0,\n",
       "                   0,   0,   0, 255, 255, 255, 255, 255, 255, 255,   0,   0],\n",
       "                [  0, 255, 255, 255, 255,   0,   0,   0,   0,   0,   0,   0,   0,\n",
       "                   0,   0, 255, 255, 255, 255, 255, 255, 255, 255,   0,   0],\n",
       "                [255, 255, 255, 255, 255,   0,   0,   0,   0,   0,   0,   0,   0,\n",
       "                   0, 255, 255, 255, 255, 255, 255, 255, 255, 255,   0,   0],\n",
       "                [255, 255, 255, 255, 255,   0,   0,   0,   0,   0,   0,   0,   0,\n",
       "                 255, 255, 255, 255, 255, 255, 255, 255, 255,   0,   0,   0],\n",
       "                [  0, 255, 255, 255, 255, 255, 255, 255, 255,   0,   0, 255, 255,\n",
       "                 255, 255, 255, 255, 255, 255, 255, 255, 255,   0,   0,   0],\n",
       "                [  0, 255, 255, 255, 255, 255, 255, 255, 255, 255, 255, 255, 255,\n",
       "                 255, 255, 255, 255, 255, 255, 255, 255, 255,   0,   0,   0],\n",
       "                [  0,   0, 255, 255, 255, 255, 255, 255, 255, 255, 255, 255, 255,\n",
       "                 255, 255,   0,   0, 255, 255, 255, 255,   0,   0,   0,   0],\n",
       "                [  0,   0,   0, 255, 255, 255, 255, 255, 255, 255, 255, 255, 255,\n",
       "                 255,   0,   0,   0, 255, 255, 255, 255,   0,   0,   0,   0],\n",
       "                [  0,   0,   0,   0,   0, 255, 255, 255, 255, 255, 255, 255, 255,\n",
       "                   0,   0,   0,   0, 255, 255, 255, 255,   0,   0,   0,   0],\n",
       "                [  0,   0,   0,   0,   0,   0,   0,   0,   0,   0,   0,   0,   0,\n",
       "                   0,   0,   0, 255, 255, 255, 255, 255,   0,   0,   0,   0],\n",
       "                [  0,   0,   0,   0,   0,   0,   0,   0,   0,   0,   0,   0,   0,\n",
       "                   0,   0,   0, 255, 255, 255, 255, 255,   0,   0,   0,   0],\n",
       "                [  0,   0,   0,   0,   0,   0,   0,   0,   0,   0,   0,   0,   0,\n",
       "                   0,   0,   0, 255, 255, 255, 255,   0,   0,   0,   0,   0],\n",
       "                [  0,   0,   0,   0,   0,   0,   0,   0,   0,   0,   0,   0,   0,\n",
       "                   0,   0,   0, 255, 255, 255, 255,   0,   0,   0,   0,   0],\n",
       "                [  0,   0,   0,   0,   0,   0,   0,   0,   0,   0,   0,   0,   0,\n",
       "                   0,   0, 255, 255, 255, 255, 255,   0,   0,   0,   0,   0],\n",
       "                [  0,   0,   0,   0,   0,   0,   0,   0,   0,   0,   0,   0,   0,\n",
       "                   0,   0, 255, 255, 255, 255, 255,   0,   0,   0,   0,   0],\n",
       "                [  0,   0,   0,   0,   0,   0,   0,   0,   0,   0,   0,   0,   0,\n",
       "                   0,   0, 255, 255, 255, 255, 255,   0,   0,   0,   0,   0],\n",
       "                [  0,   0,   0,   0,   0,   0,   0,   0,   0,   0,   0,   0,   0,\n",
       "                   0,   0, 255, 255, 255, 255,   0,   0,   0,   0,   0,   0],\n",
       "                [  0,   0,   0,   0,   0,   0,   0,   0,   0,   0,   0,   0,   0,\n",
       "                   0,   0, 255, 255, 255, 255,   0,   0,   0,   0,   0,   0],\n",
       "                [  0,   0,   0,   0,   0,   0,   0,   0,   0,   0,   0,   0,   0,\n",
       "                   0,   0, 255, 255, 255, 255,   0,   0,   0,   0,   0,   0],\n",
       "                [  0,   0,   0,   0,   0,   0,   0,   0,   0,   0,   0,   0,   0,\n",
       "                   0,   0, 255, 255, 255, 255,   0,   0,   0,   0,   0,   0],\n",
       "                [  0,   0,   0,   0,   0,   0,   0,   0,   0,   0,   0,   0,   0,\n",
       "                   0, 255, 255, 255, 255,   0,   0,   0,   0,   0,   0,   0],\n",
       "                [  0,   0,   0,   0,   0,   0,   0,   0,   0,   0,   0,   0,   0,\n",
       "                   0, 255, 255, 255, 255,   0,   0,   0,   0,   0,   0,   0],\n",
       "                [  0,   0,   0,   0,   0,   0,   0,   0,   0,   0,   0,   0,   0,\n",
       "                   0, 255, 255, 255, 255,   0,   0,   0,   0,   0,   0,   0],\n",
       "                [  0,   0,   0,   0,   0,   0,   0,   0,   0,   0,   0,   0,   0,\n",
       "                   0, 255, 255, 255, 255,   0,   0,   0,   0,   0,   0,   0],\n",
       "                [  0,   0,   0,   0,   0,   0,   0,   0,   0,   0,   0,   0,   0,\n",
       "                   0, 255, 255, 255,   0,   0,   0,   0,   0,   0,   0,   0],\n",
       "                [  0,   0,   0,   0,   0,   0,   0,   0,   0,   0,   0,   0,   0,\n",
       "                 255, 255, 255, 255, 255,   0,   0,   0,   0,   0,   0,   0],\n",
       "                [  0,   0,   0,   0,   0,   0,   0,   0,   0,   0,   0,   0,   0,\n",
       "                   0, 255, 255, 255, 255,   0,   0,   0,   0,   0,   0,   0]],\n",
       "               dtype=uint8)                                                      ]],\n",
       "       dtype=object),\n",
       " 'labels': array([[6],\n",
       "        [5],\n",
       "        [0],\n",
       "        ...,\n",
       "        [2],\n",
       "        [6],\n",
       "        [6]], dtype=uint8)}"
      ]
     },
     "execution_count": 6,
     "metadata": {},
     "output_type": "execute_result"
    }
   ],
   "source": [
    "dataset"
   ]
  },
  {
   "cell_type": "code",
   "execution_count": 7,
   "id": "20d941c9",
   "metadata": {},
   "outputs": [
    {
     "data": {
      "text/plain": [
       "(60000, 1)"
      ]
     },
     "execution_count": 7,
     "metadata": {},
     "output_type": "execute_result"
    }
   ],
   "source": [
    "dataset['Data'].shape"
   ]
  },
  {
   "cell_type": "code",
   "execution_count": 13,
   "id": "fbabd69d",
   "metadata": {},
   "outputs": [],
   "source": [
    "from sklearn.model_selection import train_test_split\n",
    "train_data, test_data= train_test_split(dataset['Data'],test_size=0.2,random_state=42)\n",
    "train_labels, test_labels= train_test_split(dataset['labels'],test_size=0.2,random_state=42)"
   ]
  },
  {
   "cell_type": "code",
   "execution_count": 14,
   "id": "efab6c86",
   "metadata": {},
   "outputs": [
    {
     "data": {
      "text/plain": [
       "(48000, 1)"
      ]
     },
     "execution_count": 14,
     "metadata": {},
     "output_type": "execute_result"
    }
   ],
   "source": [
    "train_data.shape"
   ]
  },
  {
   "cell_type": "code",
   "execution_count": 15,
   "id": "394bcfda",
   "metadata": {},
   "outputs": [],
   "source": [
    "train_data=np.squeeze(train_data)\n",
    "test_data=np.squeeze(test_data)\n",
    "train_labels=np.squeeze(train_labels)\n",
    "test_labels=np.squeeze(test_labels)"
   ]
  },
  {
   "cell_type": "code",
   "execution_count": 18,
   "id": "a8f285dd",
   "metadata": {},
   "outputs": [],
   "source": [
    "X_train_28by28=[cv2.resize(img, dsize=(28,28)) for img in train_data]\n",
    "X_test_28by28=[cv2.resize(img, dsize=(28,28)) for img in test_data]"
   ]
  },
  {
   "cell_type": "code",
   "execution_count": 39,
   "id": "342bd440",
   "metadata": {},
   "outputs": [],
   "source": [
    "X_train=np.reshape(X_train_28by28,[-1,28,28])\n",
    "X_test=np.reshape(X_test_28by28,[-1,28,28])\n",
    "X_train = X_train.astype('float32') / 255.\n",
    "X_test = X_test.astype('float32') / 255."
   ]
  },
  {
   "cell_type": "code",
   "execution_count": 40,
   "id": "e58edf19",
   "metadata": {},
   "outputs": [
    {
     "data": {
      "text/plain": [
       "(48000, 28, 28)"
      ]
     },
     "execution_count": 40,
     "metadata": {},
     "output_type": "execute_result"
    }
   ],
   "source": [
    "X_train.shape"
   ]
  },
  {
   "cell_type": "code",
   "execution_count": 41,
   "id": "181be7c6",
   "metadata": {},
   "outputs": [
    {
     "data": {
      "text/plain": [
       "<tf.Tensor: shape=(), dtype=int32, numpy=784>"
      ]
     },
     "execution_count": 41,
     "metadata": {},
     "output_type": "execute_result"
    }
   ],
   "source": [
    "tf.math.reduce_prod([28,28,1])"
   ]
  },
  {
   "cell_type": "code",
   "execution_count": 42,
   "id": "c44b5418",
   "metadata": {},
   "outputs": [],
   "source": [
    "class Autoencoder(Model):\n",
    "  def __init__(self, latent_dim, shape):\n",
    "    super(Autoencoder, self).__init__()\n",
    "    self.latent_dim = latent_dim\n",
    "    self.shape = shape\n",
    "    self.encoder = tf.keras.Sequential([\n",
    "      layers.Flatten(),\n",
    "      layers.Dense(latent_dim, activation='relu'),\n",
    "    ])\n",
    "    self.decoder = tf.keras.Sequential([\n",
    "      layers.Dense(tf.math.reduce_prod(shape), activation='sigmoid'),\n",
    "      layers.Reshape(shape)\n",
    "    ])\n",
    "\n",
    "  def call(self, x):\n",
    "    encoded = self.encoder(x)\n",
    "    decoded = self.decoder(encoded)\n",
    "    return decoded\n",
    "\n",
    "\n",
    "shape = X_test.shape[1:]\n",
    "latent_dim = 64\n",
    "autoencoder = Autoencoder(latent_dim, shape)"
   ]
  },
  {
   "cell_type": "code",
   "execution_count": 43,
   "id": "4fc0a594",
   "metadata": {},
   "outputs": [],
   "source": [
    "autoencoder.compile(optimizer='adam', loss=losses.MeanSquaredError())"
   ]
  },
  {
   "cell_type": "code",
   "execution_count": 44,
   "id": "e77d185d",
   "metadata": {
    "scrolled": true
   },
   "outputs": [
    {
     "name": "stdout",
     "output_type": "stream",
     "text": [
      "Epoch 1/10\n",
      "1500/1500 [==============================] - 20s 11ms/step - loss: 0.0396 - val_loss: 0.0207\n",
      "Epoch 2/10\n",
      "1500/1500 [==============================] - 19s 13ms/step - loss: 0.0172 - val_loss: 0.0146\n",
      "Epoch 3/10\n",
      "1500/1500 [==============================] - 18s 12ms/step - loss: 0.0135 - val_loss: 0.0127\n",
      "Epoch 4/10\n",
      "1500/1500 [==============================] - 17s 11ms/step - loss: 0.0120 - val_loss: 0.0115\n",
      "Epoch 5/10\n",
      "1500/1500 [==============================] - 16s 10ms/step - loss: 0.0113 - val_loss: 0.0111\n",
      "Epoch 6/10\n",
      "1500/1500 [==============================] - 15s 10ms/step - loss: 0.0109 - val_loss: 0.0109\n",
      "Epoch 7/10\n",
      "1500/1500 [==============================] - 17s 11ms/step - loss: 0.0107 - val_loss: 0.0109\n",
      "Epoch 8/10\n",
      "1500/1500 [==============================] - 17s 11ms/step - loss: 0.0105 - val_loss: 0.0105\n",
      "Epoch 9/10\n",
      "1500/1500 [==============================] - 16s 11ms/step - loss: 0.0104 - val_loss: 0.0107\n",
      "Epoch 10/10\n",
      "1500/1500 [==============================] - 17s 11ms/step - loss: 0.0103 - val_loss: 0.0104\n"
     ]
    },
    {
     "data": {
      "text/plain": [
       "<keras.src.callbacks.History at 0x1561cc87a10>"
      ]
     },
     "execution_count": 44,
     "metadata": {},
     "output_type": "execute_result"
    }
   ],
   "source": [
    "autoencoder.fit(X_train, X_train,\n",
    "                epochs=10,\n",
    "                shuffle=True,\n",
    "                validation_data=(X_test, X_test))"
   ]
  },
  {
   "cell_type": "code",
   "execution_count": 46,
   "id": "7b942df9",
   "metadata": {},
   "outputs": [],
   "source": [
    "encoded_imgs = autoencoder.encoder(X_test).numpy()"
   ]
  },
  {
   "cell_type": "code",
   "execution_count": 47,
   "id": "90f852c5",
   "metadata": {},
   "outputs": [],
   "source": [
    "decoded_imgs = autoencoder.decoder(encoded_imgs).numpy()"
   ]
  },
  {
   "cell_type": "code",
   "execution_count": 48,
   "id": "9cce2d76",
   "metadata": {},
   "outputs": [
    {
     "data": {
      "image/png": "[encoded data removed]",
      "text/plain": [
       "<Figure size 2000x400 with 20 Axes>"
      ]
     },
     "metadata": {},
     "output_type": "display_data"
    }
   ],
   "source": [
    "n = 10\n",
    "plt.figure(figsize=(20, 4))\n",
    "for i in range(n):\n",
    "  # display original\n",
    "  ax = plt.subplot(2, n, i + 1)\n",
    "  plt.imshow(X_test[i])\n",
    "  plt.title(\"original\")\n",
    "  plt.gray()\n",
    "  ax.get_xaxis().set_visible(False)\n",
    "  ax.get_yaxis().set_visible(False)\n",
    "\n",
    "  # display reconstruction\n",
    "  ax = plt.subplot(2, n, i + 1 + n)\n",
    "  plt.imshow(decoded_imgs[i])\n",
    "  plt.title(\"reconstructed\")\n",
    "  plt.gray()\n",
    "  ax.get_xaxis().set_visible(False)\n",
    "  ax.get_yaxis().set_visible(False)\n",
    "plt.show()"
   ]
  }
 ],
 "metadata": {
  "kernelspec": {
   "display_name": "Python 3 (ipykernel)",
   "language": "python",
   "name": "python3"
  },
  "language_info": {
   "codemirror_mode": {
    "name": "ipython",
    "version": 3
   },
   "file_extension": ".py",
   "mimetype": "text/x-python",
   "name": "python",
   "nbconvert_exporter": "python",
   "pygments_lexer": "ipython3",
   "version": "3.11.5"
  }
 },
 "nbformat": 4,
 "nbformat_minor": 5
}
